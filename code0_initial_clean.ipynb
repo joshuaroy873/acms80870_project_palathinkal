{
 "cells": [
  {
   "cell_type": "code",
   "execution_count": 1,
   "metadata": {},
   "outputs": [
    {
     "name": "stdout",
     "output_type": "stream",
     "text": [
      "      lte-ci/nr-nci   freq*    pci\n",
      "878        128001.0  3660.0    4.0\n",
      "1760       128002.0  3690.0    8.0\n",
      "500        986113.0  3670.0  200.0\n",
      "1349       986114.0  3580.0    1.0\n",
      "92         987649.0  3670.0  165.0\n",
      "44         987650.0  3690.0   69.0\n",
      "95         987905.0  3670.0   10.0\n",
      "223        987906.0  3690.0   78.0\n",
      "0          988417.0  3580.0  187.0\n",
      "205        988418.0  3600.0   46.0\n",
      "194        988673.0  3560.0   14.0\n",
      "197        988674.0  3580.0   96.0\n",
      "892        988929.0  3670.0  150.0\n",
      "683        988930.0  3690.0  194.0\n",
      "280        989441.0  3670.0    6.0\n",
      "335        989442.0  3690.0  169.0\n",
      "350        997889.0  3600.0  195.0\n",
      "226        997890.0  3580.0  189.0\n",
      "101       1001729.0  3560.0   88.0\n",
      "190       1001730.0  3580.0   26.0\n"
     ]
    }
   ],
   "source": [
    "%reset -f\n",
    "import pandas as pd\n",
    "import numpy as np\n",
    "import matplotlib.pyplot as plt\n",
    "import scipy.stats as stats\n",
    "import glob\n",
    "import sys\n",
    "from sklearn.metrics import root_mean_squared_error\n",
    "from sklearn.linear_model import LinearRegression\n",
    "\n",
    "csv_files = glob.glob('data/sigcap_data/*.csv')\n",
    "dfs = []\n",
    "for file in csv_files:\n",
    "    df = pd.read_csv(file)\n",
    "    dfs.append(df)\n",
    "df_all = pd.concat(dfs)\n",
    "\n",
    "print(df_all[df_all['band*'] == 48][['lte-ci/nr-nci', 'freq*', 'pci']].drop_duplicates().dropna().sort_values('lte-ci/nr-nci'))\n",
    "\n",
    "del df, dfs, csv_files, file"
   ]
  }
 ],
 "metadata": {
  "kernelspec": {
   "display_name": "Python 3",
   "language": "python",
   "name": "python3"
  },
  "language_info": {
   "codemirror_mode": {
    "name": "ipython",
    "version": 3
   },
   "file_extension": ".py",
   "mimetype": "text/x-python",
   "name": "python",
   "nbconvert_exporter": "python",
   "pygments_lexer": "ipython3",
   "version": "3.13.0"
  }
 },
 "nbformat": 4,
 "nbformat_minor": 2
}

{
 "cells": [
  {
   "cell_type": "markdown",
   "metadata": {},
   "source": [
    "Learning of model"
   ]
  },
  {
   "cell_type": "code",
   "execution_count": null,
   "metadata": {},
   "outputs": [],
   "source": [
    "### Resetting all variables\n",
    "\n",
    "%reset -f"
   ]
  },
  {
   "cell_type": "code",
   "execution_count": 3,
   "metadata": {},
   "outputs": [],
   "source": [
    "### Importing packages\n",
    "\n",
    "import pandas as pd\n",
    "import numpy as np\n",
    "import folium\n",
    "import matplotlib.pyplot as plt\n",
    "import branca.colormap as cm\n",
    "import seaborn as sns\n",
    "\n",
    "import sys\n",
    "sys.path.append('../python')\n",
    "from earfcn_to_freq import earfcn_to_freq\n",
    "from haversine import haversine\n",
    "from calc_bearing import calc_bearing\n",
    "from gain_calc import gain_calc"
   ]
  },
  {
   "cell_type": "code",
   "execution_count": null,
   "metadata": {},
   "outputs": [],
   "source": [
    "### Data Preprocesing\n",
    "\n",
    "df = pd.read_csv('../data/qualipoc_data/cbrs_radio_2024_oct_nov.csv', sep=\";\")\n",
    "df.rename(columns={'PCI/PSC/BSIC': 'PCI'}, inplace=True)\n",
    "df['Frequency'] = df['DL EARFCN'].apply(earfcn_to_freq)\n",
    "df = df[df['DL Bandwidth'] == 20]\n",
    "df.drop(columns=['Date', 'Time', 'Device Name', 'Carrier Index', 'Technology Band', 'Band Number', 'DL EARFCN', 'SCC Index', 'TxAntennas',\\\n",
    "                 'Frequency Number', 'DL Subcarrier Spacing', 'DL Carriers Radio', 'Cell Id', 'eNB-Id', 'Sector Id', 'Operator', 'DL Bandwidth'], inplace=True)\n",
    "\n",
    "pci_map = {\n",
    "    0: { 'BS': 1, 'Latitude': 41.65425, 'Longitude': -86.242694, 'Azimuth': 60, 'Downtilt': 4, 'Height': 21, 'Frequency': 3670 },\n",
    "    3: { 'BS': 1, 'Latitude': 41.65425, 'Longitude': -86.242694, 'Azimuth': 120, 'Downtilt': 4, 'Height': 21, 'Frequency': 3640 },\n",
    "    6: { 'BS': 1, 'Latitude': 41.65425, 'Longitude': -86.24375, 'Azimuth': 180, 'Downtilt': 4, 'Height': 21, 'Frequency': 3580 },\n",
    "    9: { 'BS': 1, 'Latitude': 41.65425, 'Longitude': -86.24375, 'Azimuth': 240, 'Downtilt': 4, 'Height': 21, 'Frequency': 3690 },\n",
    "    12: { 'BS': 1, 'Latitude': 41.654639, 'Longitude': -86.24375, 'Azimuth': 300, 'Downtilt': 4, 'Height': 29, 'Frequency': 3560 },\n",
    "    15: { 'BS': 1, 'Latitude': 41.654639, 'Longitude': -86.24375, 'Azimuth': 0, 'Downtilt': 4, 'Height': 29, 'Frequency': 3580 },\n",
    "    18: { 'BS': 4, 'Latitude': 41.668678, 'Longitude': -86.312222, 'Azimuth': 70, 'Downtilt': -1, 'Height': 12, 'Frequency': 3690 },\n",
    "    21: { 'BS': 4, 'Latitude': 41.668678, 'Longitude': -86.312222, 'Azimuth': 130, 'Downtilt': -1, 'Height': 12, 'Frequency': 3640 },\n",
    "    24: { 'BS': 2, 'Latitude': 41.663278, 'Longitude': -86.254139, 'Azimuth': 60, 'Downtilt': 4, 'Height': 44, 'Frequency': 3670 },\n",
    "    27: { 'BS': 2, 'Latitude': 41.663278, 'Longitude': -86.254139, 'Azimuth': 120, 'Downtilt': 4, 'Height': 44, 'Frequency': 3640 },\n",
    "    30: { 'BS': 2, 'Latitude': 41.663278, 'Longitude': -86.254139, 'Azimuth': 180, 'Downtilt': 4, 'Height': 44, 'Frequency': 3580 },\n",
    "    33: { 'BS': 2, 'Latitude': 41.663278, 'Longitude': -86.254139, 'Azimuth': 240, 'Downtilt': 4, 'Height': 44, 'Frequency': 3690 },\n",
    "    36: { 'BS': 2, 'Latitude': 41.663278, 'Longitude': -86.254139, 'Azimuth': 300, 'Downtilt': 4, 'Height': 44, 'Frequency': 3560 },\n",
    "    39: { 'BS': 2, 'Latitude': 41.663278, 'Longitude': -86.254139, 'Azimuth': 0, 'Downtilt': 4, 'Height': 44, 'Frequency': 3580 },\n",
    "    42: { 'BS': 3, 'Latitude': 41.67225, 'Longitude': -86.292778, 'Azimuth': 120, 'Downtilt': 4, 'Height': 33, 'Frequency': 3670 },\n",
    "    45: { 'BS': 3, 'Latitude': 41.67225, 'Longitude': -86.292778, 'Azimuth': 180, 'Downtilt': 4, 'Height': 33, 'Frequency': 3640 },\n",
    "    48: { 'BS': 3, 'Latitude': 41.67225, 'Longitude': -86.292778, 'Azimuth': 240, 'Downtilt': 4, 'Height': 33, 'Frequency': 3690 },\n",
    "    51: { 'BS': 3, 'Latitude': 41.67225, 'Longitude': -86.292778, 'Azimuth': 300, 'Downtilt': 4, 'Height': 33, 'Frequency': 3580 },\n",
    "}\n",
    "df_pci_map = pd.DataFrame.from_dict(pci_map, orient='index').reset_index()\n",
    "df_pci_map.rename(columns={'index': 'PCI'}, inplace=True)\n",
    "del pci_map\n",
    "\n",
    "df = df.merge(df_pci_map[['PCI', 'BS', 'Latitude', 'Longitude', 'Azimuth', 'Downtilt', 'Height']], on='PCI', how='left')\n",
    "df.rename(columns={'Latitude_x': 'ue_Latitude', 'Latitude_y': 'bs_Latitude', 'Longitude_x': 'ue_Longitude', 'Longitude_y': 'bs_Longitude',\\\n",
    "                   'Azimuth': 'bs_Azimuth', 'Downtilt': 'bs_Downtilt', 'Height': 'bs_Height'}, inplace=True)\n",
    "del df_pci_map\n",
    "\n",
    "df_antenna = pd.read_csv('../data/antenna.csv')\n",
    "\n",
    "df[['Distance_2d', 'Distance_3d']] = df.apply(lambda row: haversine(row['ue_Latitude'], row['ue_Longitude'],\n",
    "                                                                    row['bs_Latitude'], row['bs_Longitude'], row['bs_Height']), axis=1, result_type='expand')\n",
    "df['Distance_3d_log'] = 10 * np.log10(df['Distance_3d'])\n",
    "df['Distance_3d_log'] = 10 * np.log10(df['Distance_3d'])\n",
    "df['ue_Elevation'] = 90 - np.rad2deg(np.arctan(df['bs_Height'] / df['Distance_2d']))\n",
    "\n",
    "df['ue_Azimuth'] = df.apply(lambda row: calc_bearing(row['bs_Latitude'], row['bs_Longitude'], row['ue_Latitude'], row['ue_Longitude'], row['bs_Azimuth']), axis=1)\n",
    "\n",
    "df[['gain_Azimuth', 'gain_Elevation']] = 17 * df.apply(lambda row: pd.Series(gain_calc(df_antenna, row['ue_Azimuth'], row['ue_Elevation'])), axis=1)\n",
    "# It is not 20Mhz/15khz as there are 100 PRBs in 20Mhz conf (rest are guard bands)\n",
    "df['bs_Power'] = 30 + (df['gain_Azimuth']*df['gain_Elevation']/17) - 10*np.log10(1200)"
   ]
  },
  {
   "cell_type": "code",
   "execution_count": 2,
   "metadata": {},
   "outputs": [],
   "source": [
    "X_linD = df[['bs_Power', 'Distance_3d']]\n",
    "X_linD_gps = df[['bs_Power', 'Distance_3d', 'ue_Latitude', 'ue_Longitude']]\n",
    "X_logD = df[['bs_Power', 'Distance_3d_log']]\n",
    "X_logD_gps = df[['bs_Power', 'Distance_3d_log', 'ue_Latitude', 'ue_Longitude']]\n",
    "\n",
    "Y = df['bs_Power']"
   ]
  },
  {
   "cell_type": "code",
   "execution_count": null,
   "metadata": {},
   "outputs": [],
   "source": []
  }
 ],
 "metadata": {
  "kernelspec": {
   "display_name": "acms_env",
   "language": "python",
   "name": "python3"
  },
  "language_info": {
   "codemirror_mode": {
    "name": "ipython",
    "version": 3
   },
   "file_extension": ".py",
   "mimetype": "text/x-python",
   "name": "python",
   "nbconvert_exporter": "python",
   "pygments_lexer": "ipython3",
   "version": "3.10.15"
  }
 },
 "nbformat": 4,
 "nbformat_minor": 2
}

{
 "cells": [
  {
   "cell_type": "markdown",
   "metadata": {},
   "source": []
  },
  {
   "cell_type": "code",
   "execution_count": null,
   "metadata": {},
   "outputs": [],
   "source": []
  },
  {
   "cell_type": "code",
   "execution_count": null,
   "metadata": {},
   "outputs": [],
   "source": [
    "# X_linD = df[['bs_Power', 'Distance_3d']]\n",
    "# X_linD_gps = df[['bs_Power', 'Distance_3d', 'ue_Latitude', 'ue_Longitude']]\n",
    "# X_logD = df[['bs_Power', 'Distance_3d_log']]\n",
    "# X_logD_gps = df[['bs_Power', 'Distance_3d_log', 'ue_Latitude', 'ue_Longitude']]\n",
    "\n",
    "# Y = df['RSRP']"
   ]
  }
 ],
 "metadata": {
  "kernelspec": {
   "display_name": "acms_env",
   "language": "python",
   "name": "python3"
  },
  "language_info": {
   "name": "python",
   "version": "3.10.15"
  }
 },
 "nbformat": 4,
 "nbformat_minor": 2
}
